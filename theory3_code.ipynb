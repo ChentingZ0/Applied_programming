{
 "cells": [
  {
   "cell_type": "code",
   "execution_count": 3,
   "id": "b19e778b-07a3-47e3-81cc-0cf2bb94bfce",
   "metadata": {},
   "outputs": [
    {
     "name": "stdout",
     "output_type": "stream",
     "text": [
      "Requirement already satisfied: seaborn in e:\\anaconda\\envs\\kth_year2_p1\\lib\\site-packages (0.13.0)\n",
      "Requirement already satisfied: numpy!=1.24.0,>=1.20 in e:\\anaconda\\envs\\kth_year2_p1\\lib\\site-packages (from seaborn) (1.26.2)\n",
      "Requirement already satisfied: pandas>=1.2 in e:\\anaconda\\envs\\kth_year2_p1\\lib\\site-packages (from seaborn) (2.1.3)\n",
      "Requirement already satisfied: matplotlib!=3.6.1,>=3.3 in e:\\anaconda\\envs\\kth_year2_p1\\lib\\site-packages (from seaborn) (3.8.2)\n",
      "Requirement already satisfied: contourpy>=1.0.1 in e:\\anaconda\\envs\\kth_year2_p1\\lib\\site-packages (from matplotlib!=3.6.1,>=3.3->seaborn) (1.2.0)\n",
      "Requirement already satisfied: cycler>=0.10 in e:\\anaconda\\envs\\kth_year2_p1\\lib\\site-packages (from matplotlib!=3.6.1,>=3.3->seaborn) (0.12.1)\n",
      "Requirement already satisfied: fonttools>=4.22.0 in e:\\anaconda\\envs\\kth_year2_p1\\lib\\site-packages (from matplotlib!=3.6.1,>=3.3->seaborn) (4.45.1)\n",
      "Requirement already satisfied: kiwisolver>=1.3.1 in e:\\anaconda\\envs\\kth_year2_p1\\lib\\site-packages (from matplotlib!=3.6.1,>=3.3->seaborn) (1.4.5)\n",
      "Requirement already satisfied: packaging>=20.0 in e:\\anaconda\\envs\\kth_year2_p1\\lib\\site-packages (from matplotlib!=3.6.1,>=3.3->seaborn) (23.2)\n",
      "Requirement already satisfied: pillow>=8 in e:\\anaconda\\envs\\kth_year2_p1\\lib\\site-packages (from matplotlib!=3.6.1,>=3.3->seaborn) (10.1.0)\n",
      "Requirement already satisfied: pyparsing>=2.3.1 in e:\\anaconda\\envs\\kth_year2_p1\\lib\\site-packages (from matplotlib!=3.6.1,>=3.3->seaborn) (3.1.1)\n",
      "Requirement already satisfied: python-dateutil>=2.7 in e:\\anaconda\\envs\\kth_year2_p1\\lib\\site-packages (from matplotlib!=3.6.1,>=3.3->seaborn) (2.8.2)\n",
      "Requirement already satisfied: pytz>=2020.1 in e:\\anaconda\\envs\\kth_year2_p1\\lib\\site-packages (from pandas>=1.2->seaborn) (2023.3.post1)\n",
      "Requirement already satisfied: tzdata>=2022.1 in e:\\anaconda\\envs\\kth_year2_p1\\lib\\site-packages (from pandas>=1.2->seaborn) (2023.3)\n",
      "Requirement already satisfied: six>=1.5 in e:\\anaconda\\envs\\kth_year2_p1\\lib\\site-packages (from python-dateutil>=2.7->matplotlib!=3.6.1,>=3.3->seaborn) (1.16.0)\n"
     ]
    }
   ],
   "source": [
    "# !pip install networkx \n",
    "# !pip install numpy\n",
    "# !pip install matplotlib\n",
    "!pip install seaborn"
   ]
  },
  {
   "cell_type": "code",
   "execution_count": 4,
   "id": "52f2ae2e-a787-4f75-afd7-76a29b675e5b",
   "metadata": {},
   "outputs": [],
   "source": [
    "import networkx as nx\n",
    "import numpy as np\n",
    "import matplotlib.pyplot as plt\n",
    "import seaborn as sn"
   ]
  },
  {
   "cell_type": "markdown",
   "metadata": {},
   "source": [
    "### Problem 1"
   ]
  },
  {
   "cell_type": "code",
   "execution_count": 5,
   "id": "21fce195-fa87-4b80-a7e0-635959cddc1d",
   "metadata": {},
   "outputs": [
    {
     "name": "stdout",
     "output_type": "stream",
     "text": [
      "[[0, 0, 1, 2], [0, 3, 4, 5], [6, 7, 8, 9], [0, 0, 0, 10]]\n"
     ]
    },
    {
     "data": {
      "image/png": "[encoded data removed]",
      "text/plain": [
       "<Figure size 400x400 with 1 Axes>"
      ]
     },
     "metadata": {},
     "output_type": "display_data"
    }
   ],
   "source": [
    "# display chessboard\n",
    "n = 4\n",
    "chessboard = [[0] * n for _ in range(n)]\n",
    "\n",
    "chessboard[0][2] = 1\n",
    "chessboard[0][3] = 2\n",
    "chessboard[1][1] = 3\n",
    "chessboard[1][2] = 4\n",
    "chessboard[1][3] = 5\n",
    "chessboard[2][0] = 6\n",
    "chessboard[2][1] = 7\n",
    "chessboard[2][2] = 8\n",
    "chessboard[2][3] = 9\n",
    "chessboard[3][3] = 10\n",
    "\n",
    "def draw_chessboard(chessboard):\n",
    "    chessboard = np.array(chessboard)\n",
    "    rows, cols    = chessboard.shape\n",
    "\n",
    "    # Create figure of the size of the maze\n",
    "    fig = plt.figure(1, figsize=(cols, rows))\n",
    "\n",
    "    # Remove the axis ticks and add title\n",
    "    ax = plt.gca()\n",
    "    ax.set_title('Chessboard')\n",
    "    ax.set_xticks([])\n",
    "    ax.set_yticks([])\n",
    "\n",
    "    # Create figure of the size of the maze\n",
    "    fig = plt.figure(1, figsize=(cols, rows))\n",
    "\n",
    "    # Create a table to color\n",
    "    grid = plt.table(cellText=chessboard,\n",
    "                            cellColours=None,\n",
    "                            cellLoc='center',\n",
    "                            loc=(0, 0),\n",
    "                            edges='closed')\n",
    "    # Modify the hight and width of the cells in the table\n",
    "    tc = grid.properties()['children']\n",
    "    for cell in tc:\n",
    "        cell.set_height(1.0/rows)\n",
    "        cell.set_width(1.0/cols)\n",
    "\n",
    "draw_chessboard(chessboard)\n",
    "print(chessboard)"
   ]
  },
  {
   "cell_type": "code",
   "execution_count": 6,
   "id": "8bca0192-bba4-482c-b85f-deb16c42cb37",
   "metadata": {},
   "outputs": [
    {
     "name": "stdout",
     "output_type": "stream",
     "text": [
      "{1: [9, 7], 2: [8, 3], 3: [9, 2], 4: [10, 6], 5: [7], 6: [4], 7: [1, 10, 5], 8: [2], 9: [1, 3], 10: [4, 7]}\n"
     ]
    }
   ],
   "source": [
    "# Compute the edges\n",
    "valid_indices = []\n",
    "for row_idx in range(n):\n",
    "    for col_idx in range(n):\n",
    "        if chessboard[row_idx][col_idx] == 0:\n",
    "            continue\n",
    "        else:\n",
    "            valid_indices.append((row_idx, col_idx))\n",
    "\n",
    "\n",
    "def out_of_bound(chessboard, pos,n):\n",
    "    x,y = pos\n",
    "    return True if x < 0 or x >= n or y < 0 or y >= n or chessboard[x][y] == 0 else False\n",
    "\n",
    "\n",
    "Adjacency_list = {} # dict{1:[7,9], 2:[3,8], ...}\n",
    "directions = [(2,1),(-2,1),(-2,-1),(2,-1),(1,2),(1,-2),(-1,2),(-1,-2)]\n",
    "pos_move = tuple()\n",
    "\n",
    "for row_idx, col_idx in valid_indices:\n",
    "    Adjacency_list[chessboard[row_idx][col_idx]] = []\n",
    "    for dir in directions:\n",
    "        pos_move = (row_idx + dir[0], col_idx + dir[1])\n",
    "        if out_of_bound(chessboard, pos_move, n):\n",
    "            continue\n",
    "        else:\n",
    "            Adjacency_list[chessboard[row_idx][col_idx]].append(chessboard[pos_move[0]][pos_move[1]])\n",
    "\n",
    "print(Adjacency_list)\n",
    "\n",
    "\n"
   ]
  },
  {
   "cell_type": "code",
   "execution_count": 7,
   "metadata": {},
   "outputs": [
    {
     "name": "stdout",
     "output_type": "stream",
     "text": [
      "[[0. 0. 0. 0. 0. 0. 1. 0. 1. 0.]\n",
      " [0. 0. 1. 0. 0. 0. 0. 1. 0. 0.]\n",
      " [0. 1. 0. 0. 0. 0. 0. 0. 1. 0.]\n",
      " [0. 0. 0. 0. 0. 1. 0. 0. 0. 1.]\n",
      " [0. 0. 0. 0. 0. 0. 1. 0. 0. 0.]\n",
      " [0. 0. 0. 1. 0. 0. 0. 0. 0. 0.]\n",
      " [1. 0. 0. 0. 1. 0. 0. 0. 0. 1.]\n",
      " [0. 1. 0. 0. 0. 0. 0. 0. 0. 0.]\n",
      " [1. 0. 1. 0. 0. 0. 0. 0. 0. 0.]\n",
      " [0. 0. 0. 1. 0. 0. 1. 0. 0. 0.]]\n"
     ]
    }
   ],
   "source": [
    "Adjacency_matrix = np.zeros((10,10))\n",
    "for key in Adjacency_list.keys():\n",
    "    for value in Adjacency_list[key]:\n",
    "        Adjacency_matrix[key - 1][value - 1] = 1\n",
    "\n",
    "print(Adjacency_matrix)"
   ]
  },
  {
   "cell_type": "code",
   "execution_count": 8,
   "id": "ef9f0110-3b76-4564-a5ae-ae2a3e7f4096",
   "metadata": {},
   "outputs": [
    {
     "data": {
      "image/png": "[encoded data removed]",
      "text/plain": [
       "<Figure size 640x480 with 1 Axes>"
      ]
     },
     "metadata": {},
     "output_type": "display_data"
    }
   ],
   "source": [
    "# create the graph\n",
    "G = nx.Graph(Adjacency_list)\n",
    "nx.draw(G, pos = None, ax = None, with_labels = True,font_size = 20, node_size = 2000, node_color = 'lightgreen')\n"
   ]
  },
  {
   "cell_type": "markdown",
   "metadata": {},
   "source": [
    "### Problem 3"
   ]
  },
  {
   "cell_type": "code",
   "execution_count": 61,
   "metadata": {},
   "outputs": [],
   "source": [
    "\n",
    "# Construct the graph\n",
    "G = nx.DiGraph()\n",
    "\n",
    "# Adding nodes\n",
    "G.add_node('v1')\n",
    "G.add_node('v2')\n",
    "G.add_node('v3')\n",
    "G.add_node('v4')\n",
    "G.add_node('v5')\n",
    "G.add_node('v6')\n",
    "G.add_node('v7')\n",
    "G.add_node('v8')\n",
    "\n",
    "\n",
    "# Adding weighted edges\n",
    "G.add_edge('v1', 'v2', weight=6)\n",
    "G.add_edge('v1', 'v8', weight=2)\n",
    "G.add_edge('v1', 'v5', weight=5)\n",
    "\n",
    "G.add_edge('v2', 'v1', weight=2)\n",
    "G.add_edge('v2', 'v3', weight=3)\n",
    "\n",
    "G.add_edge('v3', 'v5', weight=2)\n",
    "\n",
    "G.add_edge('v5', 'v1', weight=5)\n",
    "G.add_edge('v5', 'v6', weight=60)\n",
    "G.add_edge('v5', 'v8', weight=3)\n",
    "\n",
    "G.add_edge('v6', 'v4', weight=1)\n",
    "\n",
    "G.add_edge('v8', 'v4', weight=100)\n",
    "G.add_edge('v8', 'v7', weight=3)\n",
    "G.add_edge('v8', 'v1', weight=5)\n",
    "G.add_edge('v8', 'v6', weight=90)\n",
    "\n"
   ]
  },
  {
   "cell_type": "code",
   "execution_count": 63,
   "metadata": {},
   "outputs": [],
   "source": [
    "# Q.decreaseKey(v, dv)\n",
    "def decreaseKey(v, dv, hq):\n",
    "    for pair in hq:\n",
    "        if pair[1] == v:\n",
    "            # delete this pair and modify\n",
    "            hq.remove(pair)\n",
    "            pair[0] = dv\n",
    "            # add new pair\n",
    "            hq.append(pair)\n",
    "    # print(hq)\n",
    "    return hq\n",
    "\n",
    "            "
   ]
  },
  {
   "cell_type": "code",
   "execution_count": 64,
   "metadata": {},
   "outputs": [
    {
     "data": {
      "text/plain": [
       "' pesudo code\\nQ = an empty priority queue\\nfor all v in V:\\n\\tQ.insert(v, +inf)\\nLet D be a dictionary and set D[v] = +inf for all v in V\\nQ.decreaseKey(s, 0)\\nD[s] = 0\\nWhile Q.isEmpty() == False:\\n\\t(u,d) = Q.deleteMin()\\n\\tfor all v in out-neighbors(u):\\n\\t\\tdv = d + w_{uv}\\n\\t\\tif dv < D[v]:\\n\\t\\t\\tQ.decreaseKey(v, dv)\\n\\t\\t\\tD[v] = dv\\n'"
      ]
     },
     "execution_count": 64,
     "metadata": {},
     "output_type": "execute_result"
    }
   ],
   "source": [
    "''' pesudo code\n",
    "Q = an empty priority queue\n",
    "for all v in V:\n",
    "\tQ.insert(v, +inf)\n",
    "Let D be a dictionary and set D[v] = +inf for all v in V\n",
    "Q.decreaseKey(s, 0)\n",
    "D[s] = 0\n",
    "While Q.isEmpty() == False:\n",
    "\t(u,d) = Q.deleteMin()\n",
    "\tfor all v in out-neighbors(u):\n",
    "\t\tdv = d + w_{uv}\n",
    "\t\tif dv < D[v]:\n",
    "\t\t\tQ.decreaseKey(v, dv)\n",
    "\t\t\tD[v] = dv\n",
    "'''\n"
   ]
  },
  {
   "cell_type": "code",
   "execution_count": 85,
   "metadata": {},
   "outputs": [
    {
     "name": "stdout",
     "output_type": "stream",
     "text": [
      "iteration 1\n",
      "[[0, 'v2'], [inf, 'v1'], [inf, 'v3'], [inf, 'v4'], [inf, 'v5'], [inf, 'v6'], [inf, 'v7'], [inf, 'v8']]\n",
      "expanded vertex v2\n",
      "vertex v1 is modified from inf to 2\n",
      "heap [[inf, 'v4'], [inf, 'v3'], [inf, 'v8'], [inf, 'v5'], [inf, 'v6'], [inf, 'v7'], [2, 'v1']]\n",
      "vertex v3 is modified from inf to 3\n",
      "heap [[inf, 'v4'], [inf, 'v8'], [inf, 'v5'], [inf, 'v6'], [inf, 'v7'], [2, 'v1'], [3, 'v3']]\n",
      "iteration 2\n",
      "[[inf, 'v4'], [inf, 'v8'], [inf, 'v5'], [inf, 'v6'], [inf, 'v7'], [2, 'v1'], [3, 'v3']]\n",
      "expanded vertex v1\n",
      "vertex v8 is modified from inf to 4\n",
      "heap [[3, 'v3'], [inf, 'v6'], [inf, 'v4'], [inf, 'v7'], [inf, 'v5'], [4, 'v8']]\n",
      "vertex v5 is modified from inf to 7\n",
      "heap [[3, 'v3'], [inf, 'v6'], [inf, 'v4'], [inf, 'v7'], [4, 'v8'], [7, 'v5']]\n",
      "iteration 3\n",
      "[[3, 'v3'], [inf, 'v6'], [inf, 'v4'], [inf, 'v7'], [4, 'v8'], [7, 'v5']]\n",
      "expanded vertex v3\n",
      "vertex v5 is modified from 7 to 5\n",
      "heap [[4, 'v8'], [inf, 'v4'], [inf, 'v7'], [inf, 'v6'], [5, 'v5']]\n",
      "iteration 4\n",
      "[[4, 'v8'], [inf, 'v4'], [inf, 'v7'], [inf, 'v6'], [5, 'v5']]\n",
      "expanded vertex v8\n",
      "vertex v4 is modified from inf to 104\n",
      "heap [[5, 'v5'], [inf, 'v7'], [inf, 'v6'], [104, 'v4']]\n",
      "vertex v7 is modified from inf to 7\n",
      "heap [[5, 'v5'], [inf, 'v6'], [104, 'v4'], [7, 'v7']]\n",
      "vertex v6 is modified from inf to 94\n",
      "heap [[5, 'v5'], [104, 'v4'], [7, 'v7'], [94, 'v6']]\n",
      "iteration 5\n",
      "[[5, 'v5'], [104, 'v4'], [7, 'v7'], [94, 'v6']]\n",
      "expanded vertex v5\n",
      "vertex v6 is modified from 94 to 65\n",
      "heap [[7, 'v7'], [104, 'v4'], [65, 'v6']]\n",
      "iteration 6\n",
      "[[7, 'v7'], [104, 'v4'], [65, 'v6']]\n",
      "expanded vertex v7\n",
      "iteration 7\n",
      "[[65, 'v6'], [104, 'v4']]\n",
      "expanded vertex v6\n",
      "vertex v4 is modified from 104 to 66\n",
      "heap [[66, 'v4']]\n",
      "iteration 8\n",
      "[[66, 'v4']]\n",
      "expanded vertex v4\n",
      "shortest path from v2 to v4 66\n"
     ]
    }
   ],
   "source": [
    "import heapq\n",
    "table = []\n",
    "table.append(['Iteration', 'expanded' + '\\n' + 'vertex', 'v1', 'v2', 'v3', 'v4', 'v5', 'v6', 'v7', 'v8'])\n",
    "Q = []\n",
    "D = dict()\n",
    "heapq.heapify(Q)\n",
    "start_node = 'v2'\n",
    "end_node = 'v4'\n",
    "nodes = G.nodes()\n",
    "\n",
    "# initialization\n",
    "iteration = 0\n",
    "for v in G.nodes():\n",
    "    if v == start_node:\n",
    "        heapq.heappush(Q, [0, v])\n",
    "        D[v] = 0\n",
    "    else:\n",
    "        heapq.heappush(Q, [float('inf'), v])\n",
    "        D[v] = float('inf')\n",
    "table.append([iteration, '-'] + [D[node] if D[node] != float('inf') else '+∞' for node in G.nodes()])\n",
    "\n",
    "\n",
    "while len(Q) != 0: \n",
    "    iteration += 1\n",
    "    print('iteration', iteration)\n",
    "    print(Q)\n",
    "    heapq.heapify(Q)\n",
    "    d, u = heapq.heappop(Q)\n",
    "    print('expanded vertex', u)\n",
    "    expanded_vertex = u\n",
    "    out_neighbors = list(G.successors(u))\n",
    "    for v in out_neighbors:\n",
    "        dv = d + G[u][v]['weight']\n",
    "        if dv < D[v]:\n",
    "            print('vertex',v,'is modified from', D[v], 'to', dv)\n",
    "            Q = decreaseKey(v, dv, Q)\n",
    "            print('heap', Q)\n",
    "            D[v] = dv\n",
    "    table.append([iteration, expanded_vertex] + [D[node] if D[node] != float('inf') else '+∞' for node in G.nodes()])\n",
    "print('shortest path from v2 to v4', D['v4'])\n",
    "\n",
    "\n"
   ]
  },
  {
   "cell_type": "code",
   "execution_count": 86,
   "metadata": {},
   "outputs": [
    {
     "data": {
      "image/png": "[encoded data removed]",
      "text/plain": [
       "<Figure size 1000x1000 with 1 Axes>"
      ]
     },
     "metadata": {},
     "output_type": "display_data"
    }
   ],
   "source": [
    "# display \n",
    "def draw_table(table):\n",
    "    table = np.array(table)\n",
    "    rows, cols = table.shape\n",
    "\n",
    "    # Create figure of the size of the maze\n",
    "    fig = plt.figure(1, figsize=(cols, rows))\n",
    "\n",
    "    # Remove the axis ticks and add title\n",
    "    ax = plt.gca()\n",
    "    ax.set_title('Dijksras algorithm')\n",
    "    ax.set_xticks([])\n",
    "    ax.set_yticks([])\n",
    "\n",
    "    # Create figure of the size of the maze\n",
    "    fig = plt.figure(1, figsize=(cols, rows))\n",
    "\n",
    "    # Create a table to color\n",
    "    grid = plt.table(cellText=table,\n",
    "                            cellColours=None,\n",
    "                            cellLoc='center',\n",
    "                            loc=(0, 0),\n",
    "                            edges='closed')\n",
    "    # Modify the hight and width of the cells in the table\n",
    "    tc = grid.properties()['children']\n",
    "    for cell in tc:\n",
    "        cell.set_height(1.0/rows)\n",
    "        cell.set_width(1.0/cols)\n",
    "    \n",
    "    grid.auto_set_font_size(False)\n",
    "    grid.set_fontsize(10)\n",
    "    # Hide axes\n",
    "    ax.axis('off')\n",
    "    plt.savefig('dijksras algorithm')\n",
    "    plt.show()\n",
    "\n",
    "draw_table(table)\n"
   ]
  },
  {
   "cell_type": "markdown",
   "metadata": {},
   "source": [
    "### Problem 4"
   ]
  },
  {
   "cell_type": "code",
   "execution_count": 6,
   "metadata": {},
   "outputs": [],
   "source": [
    "class Tree:\n",
    "    def __init__(self, node):\n",
    "        self.node = node\n",
    "        self.leftchildren = None\n",
    "        self.rightchildren = None\n",
    "        \n"
   ]
  },
  {
   "cell_type": "code",
   "execution_count": 7,
   "metadata": {},
   "outputs": [
    {
     "name": "stdout",
     "output_type": "stream",
     "text": [
      "['v11', 'v12']\n",
      "None\n"
     ]
    }
   ],
   "source": [
    "node = dict()\n",
    "node['v0'] = Tree(20)\n",
    "node['v0'].leftchildren = ['v1', 'v2']\n",
    "node['v0'].rightchildren = ['v3', 'v4']\n",
    "\n",
    "node['v1'] = Tree(5)\n",
    "node['v1'].leftchildren = ['v5', 'v6']\n",
    "node['v1'].rightchildren = ['v7', 'v8']\n",
    "\n",
    "node['v2'] = Tree(16)\n",
    "node['v2'].leftchildren = ['v9', 'v10']\n",
    "node['v2'].rightchildren = ['v11', 'v12']\n",
    "\n",
    "node['v3'] = Tree(30)\n",
    "node['v3'].leftchildren = ['v13', 'v14']\n",
    "node['v3'].rightchildren = ['v15', 'v16']\n",
    "\n",
    "node['v4'] = Tree(80)\n",
    "node['v4'].leftchildren = ['v17', 'v18']\n",
    "node['v4'].rightchildren = ['v19', 'v20']\n",
    "\n",
    "\n",
    "node['v5'] = Tree(1)\n",
    "node['v6'] = Tree(2)\n",
    "node['v7'] = Tree(8)\n",
    "node['v8'] = Tree(9)\n",
    "node['v9'] = Tree(10)\n",
    "node['v10'] = Tree(13)\n",
    "node['v11'] = Tree(17)\n",
    "node['v12'] = Tree(19)\n",
    "node['v13'] = Tree(23)\n",
    "node['v14'] = Tree(25)\n",
    "node['v15'] = Tree(40)\n",
    "node['v16'] = Tree(45)\n",
    "node['v17'] = Tree(61)\n",
    "node['v18'] = Tree(65)\n",
    "node['v19'] = Tree(100)\n",
    "node['v20'] = Tree(101)\n",
    "\n",
    "\n",
    "\n",
    "print(node['v2'].rightchildren)\n",
    "print(node['v5'].rightchildren)\n",
    "\n"
   ]
  },
  {
   "cell_type": "code",
   "execution_count": 22,
   "metadata": {},
   "outputs": [
    {
     "name": "stdout",
     "output_type": "stream",
     "text": [
      "v5 v6 v1 v7 v8 v9 v10 v2 v11 v12 v0 v13 v14 v3 v15 v16 v17 v18 v4 v19 v20 "
     ]
    }
   ],
   "source": [
    "def InOrderTreeWalk(node, target='v0'):\n",
    "    if node[target].leftchildren is not None:\n",
    "        for left_child in node[target].leftchildren:\n",
    "            InOrderTreeWalk(node, left_child)\n",
    "\n",
    "    print(target, end=' ')\n",
    "    if node[target].rightchildren is not None:\n",
    "        for right_child in node[target].rightchildren:\n",
    "            InOrderTreeWalk(node, right_child)\n",
    "    \n",
    "\n",
    "\n",
    "InOrderTreeWalk(node)"
   ]
  },
  {
   "cell_type": "markdown",
   "metadata": {},
   "source": []
  }
 ],
 "metadata": {
  "kernelspec": {
   "display_name": "Python 3 (ipykernel)",
   "language": "python",
   "name": "python3"
  },
  "language_info": {
   "codemirror_mode": {
    "name": "ipython",
    "version": 3
   },
   "file_extension": ".py",
   "mimetype": "text/x-python",
   "name": "python",
   "nbconvert_exporter": "python",
   "pygments_lexer": "ipython3",
   "version": "3.10.13"
  }
 },
 "nbformat": 4,
 "nbformat_minor": 5
}
