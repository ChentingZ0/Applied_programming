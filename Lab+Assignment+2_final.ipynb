{
 "cells": [
  {
   "cell_type": "markdown",
   "metadata": {},
   "source": [
    "# Lab Assignment 2\n",
    "\n",
    "This lab assignment must be performed in groups of 1 or 2 students (and not in larger groups). To solve this lab assignment, you are welcome to consult the lecture notes and the materials linked on the Canvas page, the Python help pages, and to try things out yourself in Python. Help from other people with the assignment (either physically, over phone, or on any forums on the internet) or chatbots, such as ChatGPT, is not allowed. This course applies the EECS honor code (https://www.kth.se/eecs/utbildning/hederskodex).\n",
    "\n",
    "The solutions for the labs must be submitted through the Canvas page and must be presented orally to a teaching assistant. The oral presentations will take place in the corresponding lab sessions while the course is running (see the upcoming Canvas announcement for details). After the end of the course, there will be another opportunity to submit the lab assignments and to present the solutions in June of the following year. When presenting the solutions orally, both students must be able to explain and present all parts of the assignment, including the source code.\n",
    "\n",
    "The assignments are not graded. However, if you submit your solution on Canvas until **November 16, 13:00** and the oral exam is passed in the lab session on **November 16 or 17**, you may raise the grade in Theory Assignment 2 (see the course memo for details). To submit your solution, upload this Jupyter Notebook with all programming assignments solved."
   ]
  },
  {
   "cell_type": "markdown",
   "metadata": {},
   "source": [
    "We start by recapping some code from previous lectures and lab sessions. You are free to use it in your solutions below."
   ]
  },
  {
   "cell_type": "code",
   "execution_count": null,
   "metadata": {
    "collapsed": true
   },
   "outputs": [],
   "source": [
    "def binarySearch(L, x, left=None, right=None):\n",
    "    if left == None:\n",
    "        left = 0\n",
    "    if right == None:\n",
    "        right = len(L)-1\n",
    "\n",
    "    if left > right:\n",
    "        return False\n",
    "    \n",
    "    mid = (left+right)//2\n",
    "\n",
    "    element = L[mid]\n",
    "    if element == x:\n",
    "        return mid\n",
    "    elif element > x:\n",
    "        right = mid-1\n",
    "        return binarySearch(L, x, left, right)\n",
    "    elif element < x:\n",
    "        left = mid+1\n",
    "        return binarySearch(L, x, left, right)"
   ]
  },
  {
   "cell_type": "code",
   "execution_count": null,
   "metadata": {
    "collapsed": true
   },
   "outputs": [],
   "source": [
    "def insertItemIntoSortedList(L, x, lastSortedIndex=None):\n",
    "    n = len(L)\n",
    "\n",
    "    i = lastSortedIndex\n",
    "    if lastSortedIndex == None:\n",
    "        i = n-1\n",
    "    \n",
    "    while i>=0 and x<L[i]:\n",
    "        i -= 1\n",
    "    L.insert(i+1, x)\n",
    "\n",
    "    return L\n",
    "\n",
    "def insertionSort(L):\n",
    "    n = len(L)\n",
    "\n",
    "    if n == 1:\n",
    "        return L\n",
    "\n",
    "    for i in range(1,n):\n",
    "        x = L.pop(i)\n",
    "        L = insertItemIntoSortedList(L, x, lastSortedIndex=i-1)\n",
    "\n",
    "    return L"
   ]
  },
  {
   "cell_type": "code",
   "execution_count": null,
   "metadata": {
    "collapsed": true
   },
   "outputs": [],
   "source": [
    "import math\n",
    "\n",
    "def computeMean(myList):\n",
    "    sum = 0\n",
    "    for number in myList:\n",
    "        sum += number\n",
    "    \n",
    "    mean = sum / len(myList)\n",
    "\n",
    "    return mean\n",
    "    \n",
    "def computeMeanAndStandardDeviation(myList):\n",
    "    mean = computeMean(myList)\n",
    "\n",
    "    sum = 0\n",
    "    for number in myList:\n",
    "        sum += (number - mean)**2\n",
    "\n",
    "    std = math.sqrt(sum / n)\n",
    "    \n",
    "    return mean, std"
   ]
  },
  {
   "cell_type": "code",
   "execution_count": null,
   "metadata": {
    "collapsed": true
   },
   "outputs": [],
   "source": [
    "import random\n",
    "\n",
    "def listWithRandomNumbers(n, maxValue):\n",
    "    return random.sample(range(maxValue+1), n)"
   ]
  },
  {
   "cell_type": "markdown",
   "metadata": {},
   "source": [
    "## Problem 1: Debugging Quicksort\n",
    "\n",
    "In Lecture 3, we have seen the Quicksort algorithm. A more detailed description than in the slides can be found in [Chapter 6.12](https://runestone.academy/ns/books/published/pythonds/SortSearch/TheQuickSort.html) in the book of Miller and Ranum.\n",
    "\n",
    "Since your lecturer did not fully like the implementation provided in the book, he took it and refactored it to make it more readable. However, along the way he introduced a few bugs. Your task is to remove the bugs such that the code below works correctly. When you present your solution to the TA, you should be able to explain the quicksort algorithm.\n",
    "\n",
    "Below, the code is stated twice. Please do not make changes to the first copy of the code. Only correct the code in the second block. When presenting this task to the TAs, use the old and the new code to explain the changes that you have made."
   ]
  },
  {
   "cell_type": "code",
   "execution_count": null,
   "metadata": {
    "collapsed": true
   },
   "outputs": [],
   "source": [
    "'''\n",
    "     Keep this implementation.\n",
    "'''\n",
    "    \n",
    "def quickSort(L, left=None, right=None):\n",
    "    if left == None:\n",
    "        left = 0\n",
    "    if right == None:\n",
    "        right = len(L)\n",
    "    \n",
    "    if left<right:\n",
    "        splitPoint = partition(L,left,right)\n",
    "\n",
    "        quickSort(L,left,splitPoint-1)\n",
    "        quickSort(L,splitPoint+1,right)\n",
    "\n",
    "def partition(L, left, right):\n",
    "    pivotValue = L[left]\n",
    "\n",
    "    leftMark = left+1\n",
    "    rightMark = right\n",
    "\n",
    "    while True:\n",
    "         while leftMark <= rightMark and L[leftMark] <= pivotValue:\n",
    "              leftMark = leftMark + 1\n",
    "\n",
    "         while L[rightMark] >= pivotValue and rightMark >= leftMark:\n",
    "              rightMark = rightMark - 1\n",
    "\n",
    "         if rightMark < leftMark:\n",
    "              return\n",
    "         else:\n",
    "             L[leftMark], L[rightMark] = L[rightMark], L[leftMark]\n",
    "\n",
    "    L[leftMark], L[rightMark] = L[rightMark], L[leftMark]\n",
    "    \n",
    "    return right"
   ]
  },
  {
   "cell_type": "code",
   "execution_count": null,
   "metadata": {
    "collapsed": false
   },
   "outputs": [
    {
     "name": "stdout",
     "output_type": "stream",
     "text": [
      "[1, 1, 2, 3, 6, 8, 10]\n"
     ]
    }
   ],
   "source": [
    "'''\n",
    "     Update this implementation.\n",
    "'''\n",
    "    \n",
    "def quickSort(L, left=None, right=None):\n",
    "    if left is None:         # Use \"is\" instead of \"==\"\n",
    "        left = 0\n",
    "    if right is None:        # Use \"is\" instead of \"==\"\n",
    "        right = len(L) - 1    # Subtract 1 to represent the last valid index\n",
    "    \n",
    "    if left < right:\n",
    "        splitPoint = partition(L, left, right)\n",
    "\n",
    "        quickSort(L, left, splitPoint - 1)  # Adjust the range\n",
    "        quickSort(L, splitPoint + 1, right)\n",
    "\n",
    "def partition(L, left, right):\n",
    "    pivotValue = L[left]\n",
    "\n",
    "    leftMark = left + 1\n",
    "    rightMark = right\n",
    "\n",
    "    while True:\n",
    "        while leftMark <= rightMark and L[leftMark] <= pivotValue:\n",
    "            leftMark += 1    # Use shorthand for incrementing\n",
    "\n",
    "        while L[rightMark] >= pivotValue and rightMark >= leftMark:\n",
    "            rightMark -= 1   # Use shorthand for decrementing\n",
    "\n",
    "        if rightMark < leftMark:\n",
    "            break           # Add a break statement to exit the loop\n",
    "        else:\n",
    "            L[leftMark], L[rightMark] = L[rightMark], L[leftMark]\n",
    "\n",
    "    L[left], L[rightMark] = L[rightMark], L[left]  # Swap with the pivotValue\n",
    "\n",
    "    return rightMark\n",
    "\n",
    "\n",
    "# Example usage\n",
    "my_list = [3, 6, 8, 10, 1, 2, 1]\n",
    "quickSort(my_list)\n",
    "print(my_list)\n"
   ]
  },
  {
   "cell_type": "markdown",
   "metadata": {},
   "source": [
    "## Problem 2: Checking Whether Squares Overlap\n",
    "\n",
    "In Lab Session 7, we have seen a class that implements a square. Your task is to add a method `overlaps()` which checks whether a given square overlaps with another given square.\n",
    "\n",
    "We say that two squares overlap if there exists a point $p = (x,y)$ which is contained in both squares.\n",
    "\n",
    "When you are done with your implementation, the following code should output True:\n",
    "```python\n",
    "    s1 = Square(0,0,2)\n",
    "    s2 = Square(1,1,2)\n",
    "    print( s1.overlaps(s2) )\n",
    "```"
   ]
  },
  {
   "cell_type": "code",
   "execution_count": 11,
   "metadata": {
    "collapsed": false
   },
   "outputs": [
    {
     "name": "stdout",
     "output_type": "stream",
     "text": [
      "True\n"
     ]
    }
   ],
   "source": [
    "import math\n",
    "class Square:\n",
    "    '''\n",
    "        The method __init__ is called the constructor and it is called\n",
    "        when then object is initialized.\n",
    "    '''\n",
    "    def __init__(self, x, y, sideLength):\n",
    "        '''\n",
    "            We use the self-keyword to access data that belongs to objects of the class.\n",
    "        '''\n",
    "        self.x = x\n",
    "        self.y = y\n",
    "        self.sideLength = sideLength\n",
    "\n",
    "    '''\n",
    "        Any method that wants to access data of a given object, must use self as the first argument.\n",
    "        To access stored in an object, we use the notation self.***.\n",
    "    '''\n",
    "    def perimeter(self):\n",
    "         return 4*self.sideLength\n",
    "\n",
    "    def area(self):\n",
    "        return self.sideLength ** 2\n",
    "\n",
    "    def updateSideLength(self, newSideLength):\n",
    "        self.sideLength = newSideLength\n",
    "\n",
    "    def hasSameSideLength(self, other):\n",
    "        return (self.sideLength == other.sideLength)\n",
    "\n",
    "    '''\n",
    "        Inside methods, we can also use previously defined methods. Then we also have to prefix them\n",
    "        using self.***, but we do not have to pass self as an argument.\n",
    "        (Yes, this is weird, but this is Python.)\n",
    "    '''\n",
    "    def isEqual(self, other):\n",
    "        return (self.x == other.x) and (self.y == other.y) and self.hasSameSideLength(other)\n",
    "\n",
    "    '''\n",
    "        Checks whether the given square overlaps in at least one point with otherSquare.\n",
    "        Returns True or False.\n",
    "    '''\n",
    "\n",
    "    def overlaps(self, otherSquare):\n",
    "        # get four coordinates of two squares\n",
    "        # trbl for top right bottom left\n",
    "        tr1 = (self.x + self.sideLength, self.y + self.sideLength)\n",
    "        tr2 = (otherSquare.x + otherSquare.sideLength, otherSquare.y + otherSquare.sideLength)\n",
    "        tl1 = (self.x, self.y + self.sideLength)\n",
    "        tl2 = (otherSquare.x, otherSquare.y + otherSquare.sideLength)\n",
    "        br1 = (self.x + self.sideLength, self.y)\n",
    "        br2 = (otherSquare.x + otherSquare.sideLength, otherSquare.y)\n",
    "        bl1 = (self.x, self.y)\n",
    "        bl2 = (otherSquare.x, otherSquare.y)\n",
    "\n",
    "        # check if any of one coordinate is within another square's area\n",
    "        # four corners\n",
    "        if (tr1[0] > bl2[0] and tr1[1] > bl2[1]) or \\\n",
    "           (tr2[0] > bl1[0] and tr2[1] > bl1[1]) or \\\n",
    "           (br1[0] > tl2[0] and br1[1] > tl2[1]) or \\\n",
    "           (br2[0] > tl1[0] and br2[1] > tl1[1]):\n",
    "            return True\n",
    "        else:\n",
    "            return False\n",
    "\n",
    "        \n",
    "\n",
    "# Test overlaps\n",
    "s1 = Square(0, 0, 2)\n",
    "s2 = Square(1, 1, 2)\n",
    "print(s1.overlaps(s2))  # True"
   ]
  },
  {
   "cell_type": "markdown",
   "metadata": {},
   "source": [
    "## Problem 3: Maximum Number of People Alive\n",
    "\n",
    "Consider the following class `Person` which stores a person's name, the year of their birth and the number of years they are alive."
   ]
  },
  {
   "cell_type": "code",
   "execution_count": null,
   "metadata": {
    "collapsed": true
   },
   "outputs": [],
   "source": [
    "class Person:\n",
    "    def __init__(self, name, birthYear, numberOfYearsAlive):\n",
    "        self.name = name\n",
    "        self.birthYear = birthYear\n",
    "        self.numberOfYearsAlive = numberOfYearsAlive"
   ]
  },
  {
   "cell_type": "markdown",
   "metadata": {},
   "source": [
    "Now suppose you get a list `L` of `Person` objects. Your task is to write a function `maxNumberOfPeopleAlive(L)` which returns the year in which the largest number of people were alive. Your algorithm should run in time $O(n \\log n)$, where $n$ is the number of objects in the list `L`. Your algorithm should make use of the `dict()`-class.\n",
    "\n",
    "For simplicity, you can assume that everyone is born on January 1 at 00:00 and everybody dies on December 31 at 23:59. This implies that a person who is born in 1900 and who is 90 years alive is alive in the years 1900,...,1989, but the person is not alive in 1990."
   ]
  },
  {
   "cell_type": "code",
   "execution_count": null,
   "metadata": {
    "collapsed": true
   },
   "outputs": [],
   "source": [
    "'''\n",
    "L = [person1.obj, person2.obj, ...]\n",
    "'''\n",
    "def find_keys_for_value(d, value):\n",
    "    return [key for key, val in d.items() if val == value]\n",
    "\n",
    "\n",
    "def maxNumberOfPeopleAlive(L):\n",
    "    # Return the year in which largest number of people were alive\n",
    "    year_count = dict()\n",
    "    for person in L:\n",
    "        birth_year = person.birthYear\n",
    "        dead_year = person.birthYear + person.numberOfYearsAlive\n",
    "        for year in range(birth_year, dead_year):\n",
    "            year_count[year] = year_count.get(year, 0) + 1\n",
    "    # largest number of people alive \n",
    "    # {1900:2, 1901:3, .... key:value}\n",
    "    \n",
    "    numbers = list(year_count.values())\n",
    "    quickSort(numbers)\n",
    "    maximum_value = numbers[-1]\n",
    "    print(maximum_value)\n",
    "    # find max year\n",
    "    keys = find_keys_for_value(year_count, maximum_value)\n",
    "    return keys\n",
    "        \n",
    "\n"
   ]
  },
  {
   "cell_type": "code",
   "execution_count": null,
   "metadata": {},
   "outputs": [
    {
     "name": "stdout",
     "output_type": "stream",
     "text": [
      "3\n",
      "[1904, 1905, 1906]\n"
     ]
    }
   ],
   "source": [
    "people = [\n",
    "    Person(\"Alice\", 1900, 5),  \n",
    "    Person(\"Bob\", 1902, 6),\n",
    "    Person(\"Charlie\", 1905, 6),\n",
    "    Person(\"Charl\", 1904, 3)\n",
    "]\n",
    "# 1900, 1901, 1902, 1903, 1904\n",
    "print(maxNumberOfPeopleAlive(people))"
   ]
  },
  {
   "cell_type": "code",
   "execution_count": null,
   "metadata": {},
   "outputs": [],
   "source": []
  }
 ],
 "metadata": {
  "kernelspec": {
   "display_name": "Python 3",
   "language": "python",
   "name": "python3"
  },
  "language_info": {
   "codemirror_mode": {
    "name": "ipython",
    "version": 3
   },
   "file_extension": ".py",
   "mimetype": "text/x-python",
   "name": "python",
   "nbconvert_exporter": "python",
   "pygments_lexer": "ipython3",
   "version": "3.11.6"
  }
 },
 "nbformat": 4,
 "nbformat_minor": 5
}
