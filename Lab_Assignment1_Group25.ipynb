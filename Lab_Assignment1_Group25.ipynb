{
 "cells": [
  {
   "cell_type": "markdown",
   "metadata": {},
   "source": [
    "# Lab Assignment 1\n",
    "\n",
    "This lab assignment must be performed in groups of 1 or 2 students (and not in larger groups). To solve this lab assignment, you are welcome to consult the lecture notes and the materials linked on the Canvas page, the Python help pages, and to try things out yourself in Python. Help from other people with the assignment (either physically, over phone, or on any forums on the internet) or chatbots, such as ChatGPT, is not allowed. This course applies the EECS honor code (https://www.kth.se/eecs/utbildning/hederskodex).\n",
    "\n",
    "The solutions for the labs must be submitted through the Canvas page and must be presented orally to a teaching assistant. The oral presentations will take place in the corresponding lab sessions while the course is running (see the upcoming Canvas announcement for details). After the end of the course, there will be another opportunity to submit the lab assignments and to present the solutions in June of the following year. When presenting the solutions orally, both students must be able to explain and present all parts of the assignment, including the source code.\n",
    "\n",
    "The assignments are not graded. However, if you submit your solution on Canvas until **October 5, 15:00** and the oral exam is passed in the lab session on **October 5**, you may raise the grade in Theory Assignment 1 (see the course memo for details). To submit your solution, upload this Jupyter Notebook with all programming assignments solved."
   ]
  },
  {
   "cell_type": "markdown",
   "metadata": {
    "jp-MarkdownHeadingCollapsed": true
   },
   "source": [
    "### Code From Previous Lectures and Lab Sessions"
   ]
  },
  {
   "cell_type": "markdown",
   "metadata": {},
   "source": [
    "We start by recapping some code from previous lectures and lab sessions. You are free to use it in your solutions below."
   ]
  },
  {
   "cell_type": "code",
   "execution_count": 1,
   "metadata": {
    "collapsed": true
   },
   "outputs": [],
   "source": [
    "def binarySearch(L, x, left=None, right=None):\n",
    "    if left == None:\n",
    "        left = 0\n",
    "    if right == None:\n",
    "        right = len(L)-1\n",
    "\n",
    "    if left > right:\n",
    "        return False\n",
    "    \n",
    "    mid = (left+right)//2\n",
    "\n",
    "    element = L[mid]\n",
    "    if element == x:\n",
    "        return mid\n",
    "    elif element > x:\n",
    "        right = mid-1\n",
    "        return binarySearch(L, x, left, right)\n",
    "    elif element < x:\n",
    "        left = mid+1\n",
    "        return binarySearch(L, x, left, right)\n"
   ]
  },
  {
   "cell_type": "code",
   "execution_count": 2,
   "metadata": {
    "collapsed": true
   },
   "outputs": [],
   "source": [
    "def insertItemIntoSortedList(L, x, lastSortedIndex=None):\n",
    "    n = len(L)\n",
    "\n",
    "    i = lastSortedIndex\n",
    "    if lastSortedIndex == None:\n",
    "        i = n-1\n",
    "    \n",
    "    while i>=0 and x<L[i]:\n",
    "        i -= 1\n",
    "    L.insert(i+1, x)\n",
    "\n",
    "    return L\n",
    "\n",
    "def insertionSort(L):\n",
    "    n = len(L)\n",
    "\n",
    "    if n == 1:\n",
    "        return L\n",
    "\n",
    "    for i in range(1,n):\n",
    "        x = L.pop(i)\n",
    "        L = insertItemIntoSortedList(L, x, lastSortedIndex=i-1)\n",
    "\n",
    "    return L"
   ]
  },
  {
   "cell_type": "code",
   "execution_count": 3,
   "metadata": {
    "collapsed": true
   },
   "outputs": [],
   "source": [
    "import math\n",
    "\n",
    "def computeMean(myList):\n",
    "    sum = 0\n",
    "    for number in myList:\n",
    "        sum += number\n",
    "    \n",
    "    mean = sum / len(myList)\n",
    "\n",
    "    return mean\n",
    "    \n",
    "def computeMeanAndStandardDeviation(myList):\n",
    "    mean = computeMean(myList)\n",
    "\n",
    "    sum = 0\n",
    "    for number in myList:\n",
    "        sum += (number - mean)**2\n",
    "\n",
    "    std = math.sqrt(sum / n)\n",
    "    \n",
    "    return mean, std"
   ]
  },
  {
   "cell_type": "code",
   "execution_count": 4,
   "metadata": {
    "collapsed": false
   },
   "outputs": [
    {
     "name": "stdout",
     "output_type": "stream",
     "text": [
      "[25, 93, 58, 71, 29, 28, 10, 41, 63, 18] <class 'list'>\n"
     ]
    }
   ],
   "source": [
    "import random\n",
    "\n",
    "def listWithRandomNumbers(n, maxValue):\n",
    "    return random.sample(range(maxValue+1), n)\n",
    "\n",
    "# test\n",
    "l = listWithRandomNumbers(10,100)\n",
    "print(l,type(l))"
   ]
  },
  {
   "cell_type": "markdown",
   "metadata": {},
   "source": [
    "## Problem 1: Binary Search with Duplicates\n",
    "\n",
    "In Lecture 2, we learned about binary search and saw a concrete implementation in the function `binarySearch(L, x, left=None, right=None)`. If the element `x` is not contained in the list `L`, then this function returns `False` and otherwise it returns an index `i` such that `L[i] = x`.\n",
    "\n",
    "However, in practice is often the case that lists contain some elements multiple times. Your task is to implement a function `binarySearchWithDuplicates(L, x)` which returns `False` if `x` is not contained in `L` and otherwise (if `x` is contained in `L`) it returns a list `indices` which contains all indices `i` such that `L[i] = x`.\n",
    "\n",
    "For instance, if `L = [1,2,3,3,3,4,5]` and `x=3` then the function should return `[2,3,4]` (note that the numbers do not necessarily have to be in order). Similarly, if `L` is as before and `x=1`, it should return `[0]`."
   ]
  },
  {
   "cell_type": "code",
   "execution_count": 5,
   "metadata": {
    "collapsed": false
   },
   "outputs": [
    {
     "name": "stdout",
     "output_type": "stream",
     "text": [
      "3 is found at indices: [4, 3, 5]\n"
     ]
    }
   ],
   "source": [
    "def binarySearchWithDuplicates(L,x):\n",
    "    ordinal_number = []  # Initialize an empty list to store ordinal numbers\n",
    "    \n",
    "    def binary_search(left, right):\n",
    "        while left <= right:\n",
    "            mid = left + (right - left) // 2\n",
    "\n",
    "            if L[mid] == x:\n",
    "                ordinal_number.append(mid)  # Add the index to the list\n",
    "                # Continue searching for more occurrences on both sides\n",
    "                binary_search(left, mid - 1)\n",
    "                binary_search(mid + 1, right)\n",
    "                return\n",
    "            elif L[mid] < x:\n",
    "                left = mid + 1\n",
    "            else:\n",
    "                right = mid - 1\n",
    "                \n",
    "    binary_search(0, len(L) - 1)\n",
    "    \n",
    "    if ordinal_number:\n",
    "        return ordinal_number\n",
    "    else:\n",
    "        return False\n",
    "\n",
    "myList = [1, 2, 2, 3, 3, 3, 4, 4, 5] #Example\n",
    "x = 3\n",
    "result = binarySearchWithDuplicates(myList, x)\n",
    "if result:\n",
    "    print(\"f{x} is found at indices: {result}\")\n",
    "else:\n",
    "    print(\"f{x} is not in the list.\")\n",
    "   "
   ]
  },
  {
   "cell_type": "markdown",
   "metadata": {},
   "source": [
    "## Problem 2: Faster Insertion Sort"
   ]
  },
  {
   "cell_type": "markdown",
   "metadata": {},
   "source": [
    "Recall the code for insertion sort from the lecture. For your convenience we also restated it above.\n",
    "\n",
    "Observe that in the code from the lecture, we use `L.insert` to insert an item into our list and we use `L.pop` to remove items from the list. This can be quite inefficient for the following reason. When we use `L.insert(i+1,x)` to insert `x` into position $i+1$ then each item at index $j$ with $j \\geq i+1$ must be moved to index $j+1$. In particular, this means that if we insert an item in position `0`, then we have to move all elements in the list `L` one position to the right. This takes time $O(n)$, where $n$ is the number of elements in the list. The same applies to using `L.pop(i)`.\n",
    "\n",
    "A more classic implementation of insertion sort uses swapping of elements, because it avoids moving around so many elements in the list. Your task is now to program this more classic implementation:\n",
    "1. Implement a function `swapElementsInList(L,i,j)` which swaps the elements at position `i` and `j` in `L`. For instance, if `L=[1,2,4,5,10]` then after we call `swapElementsInList(L,0,3)`, `L` must be given by `L=[5,2,4,1,10]`.\n",
    "2. Implement the classic version of insertion sort in a function called `insertionSortSwapping(L)`. In this new function, do *not* call the function `insertItemIntoSortedList` and do not use `L.insert` or `L.pop`.<br>\n",
    "   Instead, iterate over all $i=1,\\dots,n-1$. In the $i$'th iteration, insert element `L[i]` into the correct position of the already sorted list at indices `L[0:i]`. To insert the $i$'th element, swap it to the left until it is at the right position such that all elements in `L[0:(i+1)]` are sorted after the $i$'th iteration finishes. To do the swapping, use the function `swapElementsInList(L,i,j)` to swap entries to the correct position. <br>\n",
    "*Hint:* If you want a more detailed explanation how the swapping should be done, see [Chapter 6.9](https://runestone.academy/ns/books/published/pythonds/SortSearch/TheInsertionSort.html) in the book by Miller and Ranum for details.\n",
    "4. Compare the running times of the functions `insertionSortSwapping` you just implemented and `insertionSort` from the lecture. To do this, generate 5 lists with 10000 random numbers and sort them using the two insertion sort implementations. Then measure the time using `time.time()`. Compute the mean and the standard deviations of the running times of the two algorithms using the function `computeMeanAndStandardDeviation()` from the first lab session.<br>\n",
    "*Remark:* It is possible that you may find the surprising result that your implementation is slower. You can generate a single list consisting of `n` random numbers with values in `0` to `maxValue` using `listWithRandomNumbers(nSorted, maxValue)`.  Make sure that you run both algorithms on exactly the same lists, otherwise the comparison is unfair. Also, note that when you have a list `L` and you write `L1 = L` in your code, this does not copy the list. To copy the list, use `L1 = L.copy()`."
   ]
  },
  {
   "cell_type": "code",
   "execution_count": 6,
   "metadata": {
    "collapsed": false
   },
   "outputs": [
    {
     "name": "stdout",
     "output_type": "stream",
     "text": [
      "[5, 2, 4, 1, 10]\n"
     ]
    }
   ],
   "source": [
    "def swapElementsInList(L,i,j):\n",
    "    if i < 0 or i >= len(L) or j < 0 or j >= len(L):  # Check if indices i and j are within the valid range of the list\n",
    "        raise IndexError(\"Indices out of range\")\n",
    "\n",
    "    temp = L[i]  # Swap the elements at positions i and j using a temporary variable\n",
    "    L[i] = L[j]\n",
    "    L[j] = temp\n",
    "\n",
    "myList = [1, 2, 4, 5, 10] #Example\n",
    "swapElementsInList(myList, 0, 3)\n",
    "print(myList)\n"
   ]
  },
  {
   "cell_type": "code",
   "execution_count": 14,
   "metadata": {
    "collapsed": false
   },
   "outputs": [
    {
     "name": "stdout",
     "output_type": "stream",
     "text": [
      "[1, 2, 4, 5, 10]\n"
     ]
    }
   ],
   "source": [
    "def insertionSortSwapping(L):\n",
    "    n = len(L)\n",
    "    \n",
    "    for i in range(1, n):\n",
    "        j = i\n",
    "        \n",
    "        while j > 0 and L[j] < L[j - 1]:  # Swap the element at index i with elements to its left until it's in the correct position\n",
    "            swapElementsInList(L, j, j - 1)\n",
    "            j -= 1\n",
    "\n",
    "def swapElementsInList(L,m,n):\n",
    "    temp = L[m] \n",
    "    L[m] = L[n]\n",
    "    L[n] = temp    \n",
    "        \n",
    "myList = [5, 2, 4, 1, 10]  # Example\n",
    "insertionSortSwapping(myList)\n",
    "print(myList)"
   ]
  },
  {
   "cell_type": "code",
   "execution_count": 11,
   "metadata": {
    "collapsed": false
   },
   "outputs": [
    {
     "name": "stdout",
     "output_type": "stream",
     "text": [
      "5.198023128509521 26.30359892845154 0.020567377941435424 0.022788492722269897\n"
     ]
    }
   ],
   "source": [
    "import time\n",
    "import random\n",
    "\n",
    "\n",
    "## test\n",
    "n = 10000\n",
    "maxValue = 10**8\n",
    "# n = 10\n",
    "# maxValue = 100\n",
    "L = []\n",
    "for _ in range(5):\n",
    "    L.append(listWithRandomNumbers(n, maxValue))\n",
    "\n",
    "# print(type(L),L)\n",
    "insertion_running_time = []\n",
    "swap_running_time = []\n",
    "for i in range(5):\n",
    "    start = time.time()\n",
    "    insertionSort(L[i].copy())\n",
    "    end = time.time()\n",
    "    insertion_running_time.append(end - start)\n",
    "\n",
    "for i in range(5):\n",
    "    start = time.time()\n",
    "    insertionSortSwapping(L[i].copy())\n",
    "    end = time.time()\n",
    "    swap_running_time.append(end - start)\n",
    "\n",
    "mean1, std1 = computeMeanAndStandardDeviation(insertion_running_time)\n",
    "mean2, std2 = computeMeanAndStandardDeviation(swap_running_time)\n",
    "\n",
    "\n",
    "print(mean1, mean2, std1, std2)"
   ]
  },
  {
   "cell_type": "markdown",
   "metadata": {},
   "source": [
    "## Problem 3: SPLIT 25\n",
    "\n",
    "A \"game\" that people use to teach children mathematics is called SPLIT 25. The goal of the game is to write $25$ as a sum of positive integers such that the product of the integers is maximized. For instance, $25 = 5 + 20$ and in this case the product of the integers is $5 \\cdot 20 = 100$. If we write $25 = 23 + 1 + 1$ then the product is just $23 \\cdot 1 \\cdot 1 = 23$. But we can also write $25 = 5 + 5 + 5 + 5 + 5$ and in this case we have that $5\\cdot5\\cdot5\\cdot5\\cdot5 = 3125$. People use this game to teach children some intuition about mathematics.\n",
    "\n",
    "Here, your task is to solve this problem using an algorithm. Implement a function `findHighestProduct(n)` which, given a positive integer $n$, rewrites $n$ as the sum of positive integers such that the product of the integers is maximized. The function should return an integer that gives the maximum product that can be achieved. (You do not have to return the decomposition of $n$ into the summands/factors.)\n",
    "\n",
    "*Remark:* If you want a challenge, stop reading now and try to come up with a solution by yourself. Otherwise, click on the detailed instructions below."
   ]
  },
  {
   "cell_type": "code",
   "execution_count": 9,
   "metadata": {
    "collapsed": false
   },
   "outputs": [
    {
     "name": "stdout",
     "output_type": "stream",
     "text": [
      "findHighestProduct1:1\n",
      "findHighestProduct2:2\n",
      "findHighestProduct3:3\n",
      "findHighestProduct4:4\n",
      "findHighestProduct5:6\n",
      "findHighestProduct6:9\n",
      "findHighestProduct7:12\n",
      "findHighestProduct8:18\n",
      "findHighestProduct9:27\n",
      "findHighestProduct10:36\n",
      "findHighestProduct100:7412080755407364\n"
     ]
    }
   ],
   "source": [
    "\n",
    "## analysis-> dynamic programming, store in dp[i]\n",
    "# base case: dp[1] = 1\n",
    "# dp[2] = max(1*dp[1], 2)\n",
    "# dp[3] = max(1*dp[2], 2*dp[1])\n",
    "# dp[4] = max(1*dp[3], 2*dp[2], 3*dp[1])\n",
    "# dp[n] = max(1*dp[n-1],2*dp[n-2],3*dp[n-3],...i*dp[n-i],..., (n-1)*dp[1])\n",
    "\n",
    "def findHighestProduct(n):\n",
    "    if n == 1:  # base case\n",
    "        return n\n",
    "    dp = [-1] * (n+1)\n",
    "    dp[1] = 1\n",
    "    for j in range(2, n+1):\n",
    "        compare_list = [i*dp[j-i] for i in range(1, j)]\n",
    "        compare_list.append(j)\n",
    "        dp[j] = max(compare_list)\n",
    "    return dp[n]\n",
    "\n",
    "# test\n",
    "for i in range(1,11):\n",
    "    print(\"findHighestProduct{}:\".format(i)+ str(findHighestProduct(i)))\n",
    "\n",
    "print(\"findHighestProduct100:\" + str(findHighestProduct(100)))"
   ]
  },
  {
   "cell_type": "markdown",
   "metadata": {
    "jp-MarkdownHeadingCollapsed": true
   },
   "source": [
    "### Detailed Instructions for the Solution"
   ]
  },
  {
   "cell_type": "markdown",
   "metadata": {},
   "source": [
    "This kind of problem is quite common at programming contests. One technique to solve it is called *memoization* or *dynamic programming*. It works by splitting a problem into simpler subproblems. For each subproblem, the solution is either trivial or we already computed the solution before and we can reuse it (this is why it is called *memoization*).\n",
    "\n",
    "Here is how you can solve it:\n",
    "1. Consider the special case $n=1$. Which value should `findestHighestProduct(n)` return?\n",
    "2. Next, suppose that $n>1$ and suppose that you are given some integer $i=1,\\dots,n-1$ as input. Then you can rewrite $n$ as $i + (n-i)$. How does this insight help you to maximize the product of the integers? (*Hint:* Recursion.)\n",
    "3. Now, what if you do not obtain $i$ as part of the input? In other words, how do you find an appropriate value of $i$? (*Hint:* Let your algorithm find the right choice of $i$ for you.)\n",
    "4. To avoid recomputing solutions many times in your recursive function calls, use a `dict` to store solutions that we have computed already. (*Hint:* Have a look at the function `fibonacciUsingDict()` from Lab Session 3.)\n",
    "\n",
    "Your algorithm should be able to compute `findestHighestProduct(100)`. Do not be surprised when this is a rather large number.\n",
    "\n",
    "For your convenience, so that you can check your code, here are the correct solutions for $n=1,\\dots,10$:\n",
    "* findHighestProduct(1): 1\n",
    "* findHighestProduct(2): 2\n",
    "* findHighestProduct(3): 3\n",
    "* findHighestProduct(4): 4\n",
    "* findHighestProduct(5): 6\n",
    "* findHighestProduct(6): 9\n",
    "* findHighestProduct(7): 12\n",
    "* findHighestProduct(8): 18\n",
    "* findHighestProduct(9): 27\n",
    "* findHighestProduct(10): 36"
   ]
  }
 ],
 "metadata": {
  "kernelspec": {
   "display_name": "Python 3",
   "language": "python",
   "name": "python3"
  },
  "language_info": {
   "codemirror_mode": {
    "name": "ipython",
    "version": 3
   },
   "file_extension": ".py",
   "mimetype": "text/x-python",
   "name": "python",
   "nbconvert_exporter": "python",
   "pygments_lexer": "ipython3",
   "version": "3.6.0"
  }
 },
 "nbformat": 4,
 "nbformat_minor": 5
}
